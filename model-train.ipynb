{
  "cells": [
    {
      "cell_type": "code",
      "execution_count": null,
      "metadata": {
        "id": "DdbCPjmYtQ6L"
      },
      "outputs": [],
      "source": [
        "import pickle\n",
        "#Unpickle the file\n",
        "with open('/content/images.p',\"rb\") as f:\n",
        "  images = pickle.load(f)\n",
        "with open('/content/labels.p',\"rb\") as f:\n",
        "  labels=pickle.load(f)"
      ]
    },
    {
      "cell_type": "code",
      "execution_count": null,
      "metadata": {
        "colab": {
          "base_uri": "https://localhost:8080/"
        },
        "id": "2u7EMwNzuDKT",
        "outputId": "6cad5c32-7b87-43e4-fa5c-e91a77893ab6"
      },
      "outputs": [],
      "source": [
        "print(images.shape)\n",
        "print(labels.shape)\n"
      ]
    },
    {
      "cell_type": "code",
      "execution_count": null,
      "metadata": {
        "colab": {
          "base_uri": "https://localhost:8080/"
        },
        "id": "tdMduLVpxsVY",
        "outputId": "6a30b964-daf3-4891-dcf6-81c108a2f0a6"
      },
      "outputs": [],
      "source": [
        "set(labels)"
      ]
    },
    {
      "cell_type": "code",
      "execution_count": null,
      "metadata": {
        "colab": {
          "base_uri": "https://localhost:8080/"
        },
        "id": "xfXozw-Jxu3T",
        "outputId": "b406d084-b5f1-46c2-aed0-3cceab22442d"
      },
      "outputs": [],
      "source": [
        "import numpy as np\n",
        "from sklearn.preprocessing import LabelEncoder\n",
        "\n",
        "p=len(set(labels))\n",
        "print(\"num of persons:\",p)\n",
        "\n",
        "# Initialize the LabelEncoder\n",
        "le = LabelEncoder()\n",
        "# Fit the encoder to your labels and transform them to numerical values.\n",
        "integer_encoded = le.fit_transform(labels)\n",
        "# Get the original string labels back\n",
        "mapp = le.inverse_transform(np.arange(p))\n",
        "\n",
        "for i in range(len(mapp)):\n",
        "  print(\"{} --> {}\".format(i,mapp[i]))"
      ]
    },
    {
      "cell_type": "code",
      "execution_count": null,
      "metadata": {
        "colab": {
          "base_uri": "https://localhost:8080/",
          "height": 433
        },
        "id": "gayDTHyqxygA",
        "outputId": "a1db6f00-d687-4cb4-cea3-603912e4f1bb"
      },
      "outputs": [],
      "source": [
        "import matplotlib.pyplot as plt\n",
        "plt.imshow(images[100],cmap=\"gray\")\n",
        "plt.show()"
      ]
    },
    {
      "cell_type": "code",
      "execution_count": null,
      "metadata": {
        "id": "jfpXiwhc1sjy"
      },
      "outputs": [],
      "source": [
        "import cv2"
      ]
    },
    {
      "cell_type": "code",
      "execution_count": null,
      "metadata": {
        "id": "mONgvTvE11gP"
      },
      "outputs": [],
      "source": [
        "def preprocessing(img):\n",
        "  img = cv2.equalizeHist(img)\n",
        "  img = img.reshape(100, 100, 1)\n",
        "  img = img / 255\n",
        "  return img"
      ]
    },
    {
      "cell_type": "code",
      "execution_count": null,
      "metadata": {
        "colab": {
          "base_uri": "https://localhost:8080/"
        },
        "id": "QtpdRgct15Hh",
        "outputId": "a4c1776a-5a10-4914-896b-588417f4dc99"
      },
      "outputs": [],
      "source": [
        "images = np.array(list(map(preprocessing,images)))\n",
        "print(\"Shape of Input:{}\".format(images.shape))"
      ]
    },
    {
      "cell_type": "code",
      "execution_count": null,
      "metadata": {
        "id": "UfFt82Qr2eqf"
      },
      "outputs": [],
      "source": [
        "from keras.utils import to_categorical"
      ]
    },
    {
      "cell_type": "code",
      "execution_count": null,
      "metadata": {
        "colab": {
          "base_uri": "https://localhost:8080/"
        },
        "id": "wgt7mPP42jHQ",
        "outputId": "e5814b28-1487-4c06-c3ff-39ef2c96763d"
      },
      "outputs": [],
      "source": [
        "# Create a mapping of string labels to numerical labels\n",
        "label_map = {label: i for i, label in enumerate(np.unique(labels))}\n",
        "\n",
        "# Convert string labels to numerical labels\n",
        "numerical_labels = np.array([label_map[label] for label in labels])\n",
        "\n",
        "# Now apply to_categorical\n",
        "from keras.utils import to_categorical\n",
        "labels = to_categorical(numerical_labels)\n",
        "print(\"Shape of Labels:{}\".format(labels.shape))"
      ]
    },
    {
      "cell_type": "code",
      "execution_count": null,
      "metadata": {
        "id": "kbIEyLrf2p6s"
      },
      "outputs": [],
      "source": [
        "from keras.models import Sequential\n",
        "from keras.layers import Dense\n",
        "from keras.optimizers import Adam\n",
        "from keras.layers import Conv2D\n",
        "from keras.layers import MaxPooling2D\n",
        "from keras.layers import Flatten"
      ]
    },
    {
      "cell_type": "code",
      "execution_count": null,
      "metadata": {
        "id": "ZymFqZgN9h6g"
      },
      "outputs": [],
      "source": [
        "def Lenet_Model():\n",
        "  model = Sequential()\n",
        "\n",
        "  model.add(Conv2D (30, (5,5), input_shape=(100,100,1), activation='relu'))\n",
        "  model.add(MaxPooling2D(pool_size=(2,2)))\n",
        "\n",
        "  model.add(Conv2D (15, (3,3), activation='relu'))\n",
        "  model.add(MaxPooling2D(pool_size=(2,2)))\n",
        "\n",
        "  model.add(Flatten())\n",
        "\n",
        "  model.add(Dense (100, activation= 'relu'))\n",
        "\n",
        "  model.add(Dense(7, activation='softmax'))\n",
        "  model.compile(tf.keras.optimizers.Adam(learning_rate=0.01), loss='categorical_crossentropy', metrics=['accuracy'])\n",
        "  return model"
      ]
    },
    {
      "cell_type": "code",
      "execution_count": null,
      "metadata": {
        "id": "jrd8DBOG98OF"
      },
      "outputs": [],
      "source": [
        "def Lenet_Model():\n",
        "  model = Sequential()\n",
        "\n",
        "  model.add(Conv2D (30, (5,5), input_shape=(100,100,1), activation='relu'))\n",
        "  model.add(MaxPooling2D(pool_size=(2,2)))\n",
        "\n",
        "  model.add(Conv2D (15, (3,3), activation='relu'))\n",
        "  model.add(MaxPooling2D(pool_size=(2,2)))\n",
        "\n",
        "  model.add(Flatten())\n",
        "\n",
        "  model.add(Dense (100, activation= 'relu'))\n",
        "\n",
        "  model.add(Dense(7, activation='softmax'))\n",
        "\n",
        "  model.compile(Adam (learning_rate=0.01), loss='categorical_crossentropy', metrics=['accuracy'])\n",
        "  return model"
      ]
    },
    {
      "cell_type": "code",
      "execution_count": null,
      "metadata": {
        "colab": {
          "base_uri": "https://localhost:8080/"
        },
        "id": "kXGwaula_pon",
        "outputId": "c2e0b2d1-48a5-41c5-a925-70aa60c3688d"
      },
      "outputs": [],
      "source": [
        "model = Lenet_Model()\n",
        "model.summary()"
      ]
    },
    {
      "cell_type": "code",
      "execution_count": null,
      "metadata": {
        "colab": {
          "base_uri": "https://localhost:8080/"
        },
        "id": "I16tKhWG_4gC",
        "outputId": "c7fc7e11-9adc-4c01-e25b-1aea305239d6"
      },
      "outputs": [],
      "source": [
        "model.fit(images,labels,validation_split=0.1,epochs=15)"
      ]
    },
    {
      "cell_type": "code",
      "execution_count": null,
      "metadata": {
        "colab": {
          "base_uri": "https://localhost:8080/"
        },
        "id": "jhA7bQYh-rcE",
        "outputId": "f2383bdb-4cfd-4038-c0d5-b27aedc9e074"
      },
      "outputs": [],
      "source": [
        "model.save(\"final_model.h5\")"
      ]
    },
    {
      "cell_type": "code",
      "execution_count": null,
      "metadata": {
        "id": "GAEoWOFqHPCj"
      },
      "outputs": [],
      "source": []
    }
  ],
  "metadata": {
    "colab": {
      "provenance": [],
      "toc_visible": true
    },
    "kernelspec": {
      "display_name": "Python 3",
      "name": "python3"
    },
    "language_info": {
      "name": "python"
    }
  },
  "nbformat": 4,
  "nbformat_minor": 0
}
